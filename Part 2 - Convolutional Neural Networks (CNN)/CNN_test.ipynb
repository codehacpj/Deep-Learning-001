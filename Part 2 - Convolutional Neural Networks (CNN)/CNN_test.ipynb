{
 "cells": [
  {
   "cell_type": "code",
   "execution_count": 1,
   "metadata": {},
   "outputs": [
    {
     "name": "stderr",
     "output_type": "stream",
     "text": [
      "Using TensorFlow backend.\n"
     ]
    },
    {
     "name": "stdout",
     "output_type": "stream",
     "text": [
      "Found 8000 images belonging to 2 classes.\n",
      "Found 2000 images belonging to 2 classes.\n",
      "Epoch 1/25\n",
      "8000/8000 [==============================] - 974s 122ms/step - loss: 0.3659 - acc: 0.8287 - val_loss: 0.5775 - val_acc: 0.7975\n",
      "Epoch 2/25\n",
      "8000/8000 [==============================] - 1053s 132ms/step - loss: 0.1202 - acc: 0.9536 - val_loss: 0.8787 - val_acc: 0.8105\n",
      "Epoch 3/25\n",
      "8000/8000 [==============================] - 991s 124ms/step - loss: 0.0604 - acc: 0.9781 - val_loss: 1.0725 - val_acc: 0.8040\n",
      "Epoch 4/25\n",
      "8000/8000 [==============================] - 900s 113ms/step - loss: 0.0446 - acc: 0.9844 - val_loss: 1.1117 - val_acc: 0.7980\n",
      "Epoch 5/25\n",
      "8000/8000 [==============================] - 873s 109ms/step - loss: 0.0348 - acc: 0.9880 - val_loss: 1.1672 - val_acc: 0.8030\n",
      "Epoch 6/25\n",
      "8000/8000 [==============================] - 880s 110ms/step - loss: 0.0281 - acc: 0.9906 - val_loss: 1.3560 - val_acc: 0.8070\n",
      "Epoch 7/25\n",
      "8000/8000 [==============================] - 912s 114ms/step - loss: 0.0253 - acc: 0.9915 - val_loss: 1.3496 - val_acc: 0.8070\n",
      "Epoch 8/25\n",
      "8000/8000 [==============================] - 925s 116ms/step - loss: 0.0229 - acc: 0.9924 - val_loss: 1.4182 - val_acc: 0.7975\n",
      "Epoch 9/25\n",
      "8000/8000 [==============================] - 932s 117ms/step - loss: 0.0188 - acc: 0.9939 - val_loss: 1.4855 - val_acc: 0.8020\n",
      "Epoch 10/25\n",
      "8000/8000 [==============================] - 911s 114ms/step - loss: 0.0177 - acc: 0.9943 - val_loss: 1.3892 - val_acc: 0.8035\n",
      "Epoch 11/25\n",
      "8000/8000 [==============================] - 887s 111ms/step - loss: 0.0158 - acc: 0.9947 - val_loss: 1.5062 - val_acc: 0.8010\n",
      "Epoch 12/25\n",
      "8000/8000 [==============================] - 889s 111ms/step - loss: 0.0149 - acc: 0.9953 - val_loss: 1.6563 - val_acc: 0.7985\n",
      "Epoch 13/25\n",
      "8000/8000 [==============================] - 914s 114ms/step - loss: 0.0148 - acc: 0.9953 - val_loss: 1.5940 - val_acc: 0.7895\n",
      "Epoch 14/25\n",
      "8000/8000 [==============================] - 931s 116ms/step - loss: 0.0133 - acc: 0.9957 - val_loss: 1.5452 - val_acc: 0.8075\n",
      "Epoch 15/25\n",
      "8000/8000 [==============================] - 933s 117ms/step - loss: 0.0114 - acc: 0.9963 - val_loss: 1.6685 - val_acc: 0.8000\n",
      "Epoch 16/25\n",
      "8000/8000 [==============================] - 937s 117ms/step - loss: 0.0116 - acc: 0.9962 - val_loss: 1.5643 - val_acc: 0.8100\n",
      "Epoch 17/25\n",
      "8000/8000 [==============================] - 934s 117ms/step - loss: 0.0115 - acc: 0.9964 - val_loss: 1.4501 - val_acc: 0.8165\n",
      "Epoch 18/25\n",
      "8000/8000 [==============================] - 933s 117ms/step - loss: 0.0104 - acc: 0.9968 - val_loss: 1.5362 - val_acc: 0.8020\n",
      "Epoch 19/25\n",
      "8000/8000 [==============================] - 946s 118ms/step - loss: 0.0103 - acc: 0.9969 - val_loss: 1.6427 - val_acc: 0.7975\n",
      "Epoch 20/25\n",
      "8000/8000 [==============================] - 859s 107ms/step - loss: 0.0101 - acc: 0.9970 - val_loss: 1.6678 - val_acc: 0.8065\n",
      "Epoch 21/25\n",
      "8000/8000 [==============================] - 858s 107ms/step - loss: 0.0094 - acc: 0.9972 - val_loss: 1.5751 - val_acc: 0.8030\n",
      "Epoch 22/25\n",
      "8000/8000 [==============================] - 867s 108ms/step - loss: 0.0091 - acc: 0.9973 - val_loss: 1.6835 - val_acc: 0.7990\n",
      "Epoch 23/25\n",
      "8000/8000 [==============================] - 848s 106ms/step - loss: 0.0080 - acc: 0.9975 - val_loss: 1.6175 - val_acc: 0.7980\n",
      "Epoch 24/25\n",
      "8000/8000 [==============================] - 845s 106ms/step - loss: 0.0088 - acc: 0.9975 - val_loss: 1.6234 - val_acc: 0.8080\n",
      "Epoch 25/25\n",
      "8000/8000 [==============================] - 861s 108ms/step - loss: 0.0084 - acc: 0.9974 - val_loss: 1.7599 - val_acc: 0.7995\n"
     ]
    },
    {
     "data": {
      "text/plain": [
       "<keras.callbacks.History at 0x1f43d4ad7f0>"
      ]
     },
     "execution_count": 1,
     "metadata": {},
     "output_type": "execute_result"
    }
   ],
   "source": [
    "# Part 1 - Building the CNN\n",
    "\n",
    "# Importing the Keras libraries and packages\n",
    "from keras.models import Sequential\n",
    "from keras.layers import Conv2D\n",
    "from keras.layers import MaxPooling2D\n",
    "from keras.layers import Flatten\n",
    "from keras.layers import Dense\n",
    "\n",
    "# Initialising the CNN\n",
    "classifier = Sequential()\n",
    "\n",
    "# Step 1 - Convolution\n",
    "classifier.add(Conv2D(32, (3, 3), input_shape = (64, 64, 3), activation = 'relu'))\n",
    "\n",
    "# Step 2 - Pooling\n",
    "classifier.add(MaxPooling2D(pool_size = (2, 2)))\n",
    "\n",
    "# Adding a second convolutional layer\n",
    "classifier.add(Conv2D(32, (3, 3), activation = 'relu'))\n",
    "classifier.add(MaxPooling2D(pool_size = (2, 2)))\n",
    "\n",
    "# Step 3 - Flattening\n",
    "classifier.add(Flatten())\n",
    "\n",
    "# Step 4 - Full connection\n",
    "classifier.add(Dense(units = 128, activation = 'relu'))\n",
    "classifier.add(Dense(units = 1, activation = 'sigmoid'))\n",
    "\n",
    "# Compiling the CNN\n",
    "classifier.compile(optimizer = 'adam', loss = 'binary_crossentropy', metrics = ['accuracy'])\n",
    "\n",
    "# Part 2 - Fitting the CNN to the images\n",
    "\n",
    "from keras.preprocessing.image import ImageDataGenerator\n",
    "\n",
    "train_datagen = ImageDataGenerator(rescale = 1./255,\n",
    "                                   shear_range = 0.2,\n",
    "                                   zoom_range = 0.2,\n",
    "                                   horizontal_flip = True)\n",
    "\n",
    "test_datagen = ImageDataGenerator(rescale = 1./255)\n",
    "\n",
    "training_set = train_datagen.flow_from_directory('dataset/training_set',\n",
    "                                                 target_size = (64, 64),\n",
    "                                                 batch_size = 32,\n",
    "                                                 class_mode = 'binary')\n",
    "\n",
    "test_set = test_datagen.flow_from_directory('dataset/test_set',\n",
    "                                            target_size = (64, 64),\n",
    "                                            batch_size = 32,\n",
    "                                            class_mode = 'binary')\n",
    "\n",
    "classifier.fit_generator(training_set,\n",
    "                         steps_per_epoch = 8000,\n",
    "                         epochs = 25,\n",
    "                         validation_data = test_set,\n",
    "                         validation_steps = 2000)\n"
   ]
  },
  {
   "cell_type": "code",
   "execution_count": 7,
   "metadata": {},
   "outputs": [
    {
     "name": "stdout",
     "output_type": "stream",
     "text": [
      "cat\n"
     ]
    }
   ],
   "source": [
    "import numpy as np\n",
    "from keras.preprocessing import image\n",
    "test_image = image.load_img('dataset/single_prediction/test3.jpg', target_size = (64, 64))\n",
    "test_image = image.img_to_array(test_image)\n",
    "test_image = np.expand_dims(test_image, axis = 0)\n",
    "result = classifier.predict(test_image)\n",
    "training_set.class_indices\n",
    "if result[0][0] == 1:\n",
    "    prediction = 'dog'\n",
    "else:\n",
    "    prediction = 'cat'\n",
    "\n",
    "print(prediction)"
   ]
  },
  {
   "cell_type": "code",
   "execution_count": null,
   "metadata": {},
   "outputs": [],
   "source": []
  }
 ],
 "metadata": {
  "kernelspec": {
   "display_name": "Python 3",
   "language": "python",
   "name": "python3"
  },
  "language_info": {
   "codemirror_mode": {
    "name": "ipython",
    "version": 3
   },
   "file_extension": ".py",
   "mimetype": "text/x-python",
   "name": "python",
   "nbconvert_exporter": "python",
   "pygments_lexer": "ipython3",
   "version": "3.6.6"
  }
 },
 "nbformat": 4,
 "nbformat_minor": 2
}
