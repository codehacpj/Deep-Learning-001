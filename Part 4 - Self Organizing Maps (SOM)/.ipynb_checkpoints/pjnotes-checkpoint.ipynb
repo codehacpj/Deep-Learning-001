{
 "cells": [
  {
   "cell_type": "markdown",
   "metadata": {},
   "source": [
    "## Self organising maps intuition"
   ]
  },
  {
   "cell_type": "markdown",
   "metadata": {},
   "source": [
    "plan of attack:<br>\n",
    "how do som work?<br>\n",
    "k-means clustering<br>\n",
    "how they learn?<br>\n",
    "live som example<br>\n",
    "reading an advanced som<br>\n"
   ]
  },
  {
   "cell_type": "markdown",
   "metadata": {},
   "source": [
    "#### How SOMs work:\n",
    "They basically reduce the dimentionality.<br>\n",
    "take multidimentional dataset--->reduce the dimentions by representing it with the maps. columns reduced by 2d map.<br>\n",
    "<p>\n",
    "\n",
    "\n",
    "    \n",
    "`SOM` depicting different states of prosperity and poverty in different countries(based on lots of different properties).<br>\n",
    "As it is a type of unsupervised learning, it puts similar countries together.<br>\n",
    "\n",
    "#### How SOMs learn: KOHONEN algo\n",
    "For every row we find the `BMU`(updating the weights and finding the least distance between the points selected row and the new representative point) which is `Best matching unit` for the every nodes near each one(inside the certain fixed radius) weights are updated.<br>\n",
    "<p>\n",
    "    \n",
    "    \n",
    "in the next epoch(iteration) unique feature of KOHONEN algo is applited the radiuses shrink. `BMUs` are not pulling as much of other nodes than before.<br>\n",
    "i.e. the process becomes more and more accurate(specific and targeted).<br>\n",
    "<p>\n",
    "    \n",
    "    \n",
    "<b>Take aways:</b>\n",
    "<br>\n",
    "SOMs retain topology of the input set<br>\n",
    "SOMs reveal correlations that are not easily identified.<br>\n",
    "SOMs classify data without supervision.<br>\n",
    "no target vectors i.e no backpropagation.<br>\n",
    "No lateral connections between output nodes.<br>\n",
    "\n",
    "![Screenshot%20from%202018-08-19%2010-53-38.png](Screenshot%20from%202018-08-19%2010-53-38.png)\n",
    "\n",
    "![Screenshot%20from%202018-08-19%2010-54-34.png](Screenshot%20from%202018-08-19%2010-54-34.png)\n",
    "\n",
    "\n",
    "![Screenshot%20from%202018-08-19%2010-54-43.png](Screenshot%20from%202018-08-19%2010-54-43.png)\n",
    "\n",
    "\n",
    "![Screenshot%20from%202018-08-19%2010-55-37.png](Screenshot%20from%202018-08-19%2010-55-37.png)\n",
    "\n",
    "\n",
    "![Screenshot%20from%202018-08-19%2010-56-18.png](Screenshot%20from%202018-08-19%2010-56-18.png)\n",
    "\n",
    "\n",
    "![Screenshot%20from%202018-08-19%2010-56-24.png](Screenshot%20from%202018-08-19%2010-56-24.png)\n",
    "\n",
    "![Screenshot%20from%202018-08-19%2010-56-32.png](Screenshot%20from%202018-08-19%2010-56-32.png)\n",
    "\n",
    "\n",
    "![Screenshot%20from%202018-08-19%2010-56-36.png](Screenshot%20from%202018-08-19%2010-56-36.png)\n",
    "\n",
    "![Screenshot%20from%202018-08-19%2010-56-41.png](Screenshot%20from%202018-08-19%2010-56-41.png)\n",
    "\n",
    "![Screenshot%20from%202018-08-19%2010-56-55.png](Screenshot%20from%202018-08-19%2010-56-55.png)\n",
    "\n",
    "![Screenshot%20from%202018-08-19%2010-57-18.png](Screenshot%20from%202018-08-19%2010-57-18.png)\n",
    "\n",
    "![Screenshot%20from%202018-08-19%2010-57-34.png](Screenshot%20from%202018-08-19%2010-57-34.png)\n",
    "\n",
    "\n",
    "![Screenshot%20from%202018-08-19%2010-57-53.png](Screenshot%20from%202018-08-19%2010-57-53.png)\n",
    "\n",
    "\n",
    "![Screenshot%20from%202018-08-19%2010-58-36.png](Screenshot%20from%202018-08-19%2010-58-36.png)\n",
    "\n"
   ]
  },
  {
   "cell_type": "markdown",
   "metadata": {},
   "source": [
    "\n",
    "\n"
   ]
  },
  {
   "cell_type": "markdown",
   "metadata": {},
   "source": [
    "#### Live SOM and reading an advanced SOM:\n",
    "SOM for the reaction of the Congress on certain query asked.<br>\n",
    "The models depicts the split of views on the question asked dividing them in to 2 or more parts in the map.<br>\n",
    "hence different colors depict the views of different parties.<br>\n",
    "\n",
    "\n",
    "![Screenshot%20from%202018-08-19%2011-00-03.png](Screenshot%20from%202018-08-19%2011-00-03.png)\n",
    "\n",
    "\n",
    "![Screenshot%20from%202018-08-19%2011-00-27.png](Screenshot%20from%202018-08-19%2011-00-27.png)\n",
    "\n",
    "\n",
    "\n",
    "![Screenshot%20from%202018-08-19%2011-00-37.png](Screenshot%20from%202018-08-19%2011-00-37.png)"
   ]
  },
  {
   "cell_type": "markdown",
   "metadata": {},
   "source": [
    "#### Kmeans clustering, random initialising trap, getting out of random initializing trap using graphs between the number of clusters and WCSS.\n"
   ]
  },
  {
   "cell_type": "markdown",
   "metadata": {},
   "source": [
    "### Building a SOM: To detect frauds from the applicants of the advanced credit card from the bank"
   ]
  },
  {
   "cell_type": "markdown",
   "metadata": {},
   "source": [
    "#### The dataset is from UCI machine learning repository, name of dataset is Australian credit approval dataset.\n",
    "we find the winning node for each customer.i.e. the one most similar to the customer.<br>\n",
    "`inputs(customers)`--->mapped to `output space`<br>\n",
    "between i/p space and o/p space there will be neural network composed of neurons.<br>\n",
    "each neurons being initiazed as a vector of weights that is the same size as the vector of customers(i.e. vector of 15 elements(number of features)).<br>\n",
    "Hence for each observation point, i.e. for each customer the output of this customer will be the neuron closet to the customer(`The winning node`).<br>\n",
    "We use neighborhood function such as `Gaussian Neighbourhood Function` to update the weights of the neighbors of winning node to move them closer to the point. This is done for all the customers in the i/p space and we repeat that again---> for every epoch, the o/p space decreases--> loses dimentions.<br>\n",
    "Till the point the neighborhood stops decreasing i.e output space stops decreasing.<br>\n",
    "\n",
    "<p>\n",
    "    \n",
    "That is how we obtain our self organising map in 2 dimensions with all the winning nodes.<br>\n",
    "<p>\n",
    "    \n",
    "`Frauds` will be the outliers(far from the general rules.), these neurons in 2d SOM are the ones which don't follow the rules.<br>\n",
    "<p>\n",
    "    \n",
    "To find the outliers in the SOM we need MID(Mean inter neuron distance(Mean of the euclidean distances between this neuron and the neurons in its neighborhood)).<br>\n",
    "<p>\n",
    "    \n",
    "    \n",
    "After we detect the outliers, we use  `inverse mapping function` to identify which customers originally in the input space are associated to this winning node.<br>\n",
    "<b>the pictures go here</b>"
   ]
  },
  {
   "cell_type": "markdown",
   "metadata": {},
   "source": [
    "1. get the libraries.\n",
    "2. get data, X---> will be all 14 features except the `class`--->says if the credit was approved or not. Y---> class (Not for supervised learning but to identify which ones are approved and which ones are not on the map).\n",
    "3. Feature scaling---> Deep learning intensive calcs.`MinMaxScaler`.\n",
    "4. `Train SOM` ----> MiniSom 1.0 available by developer under creative commons licence(can share and adapt the code). So we import MiniSom from minisom and the MiniSom---> takes parameters `x,y` which is the `dimensions of the grid` here we take it `10 by 10`, `input_len`--->the `no. of features in X(15 features here including id)`,`sigma`---> `radius` of the different neighborhoods in the grid,`learning_rate`--> `Hyperparaper that decides how much wights are updated during each iteration` higher the learning rate,faster will be the convergence. here `0.5`, `decay_function`--> `used to improve convergence`, here `None`\n",
    "\n",
    "5. inittialize the random weights(`Corresponding to Step 3 of the SOM training`) `som.random_weights_init`---> takes `data`---> `X` here<br>\n",
    "6. `step 4 to step 9`---> som.train_random()---> takes `data`--->`X` here and `num_iteration`---> `number of iterations`---> here we take `100`<br>\n",
    "7. `Visualizing the results` ---. to plot the map<br>2d grid with all final winning nodes and for each of these we will get MID. `colors` will represent the MIDs---> larger the MID, closer to white the color would be.<br>\n",
    "\n",
    "8. `import pylab's bone,colorbar,plot and show functions` <br> To initialize the window for map ---> `bone()` we give all MID information from SOM to `pcolor()` function---. takes `som.distance_map()` which gives all mean inter neuron distances in one matrix. we `Transpose` this matrix for the `pcolor` function.\n",
    "9. We add a color bar to see which color represents higher MID. Here, white ones represent higher MID and hence represent the potential frauds.<br>\n",
    "10. Let's include the information of the `class` feature on this map as to target the ones who got accepted and cheated(our targets) and separate them from the ones who were rejected and cheated.<br> So For this we add markers on the map to see who got accepted and who got rejected.<br>\n",
    "11. We include circles for this, `red` circles didn't get approval and `green` squares will correspond to the ones who got approval.<br>\n",
    "\n",
    "12. For the outliers we detect the customer ids that were involved to make it a winning node. This gives us the list of customers who might have been the frauds.<br>\n",
    "\n",
    "\n",
    "\n",
    "\n",
    "\n",
    "\n",
    "\n",
    "\n",
    "\n",
    "\n",
    "\n",
    "\n",
    "\n",
    "\n",
    "\n",
    "\n"
   ]
  },
  {
   "cell_type": "code",
   "execution_count": 13,
   "metadata": {},
   "outputs": [
    {
     "data": {
      "image/png": "[encoded data removed]",
      "text/plain": [
       "<Figure size 432x288 with 2 Axes>"
      ]
     },
     "metadata": {},
     "output_type": "display_data"
    }
   ],
   "source": [
    "# Self Organizing Map\n",
    "\n",
    "# Importing the libraries\n",
    "import numpy as np\n",
    "import matplotlib.pyplot as plt\n",
    "import pandas as pd\n",
    "\n",
    "# Importing the dataset\n",
    "dataset = pd.read_csv('Credit_Card_Applications.csv')\n",
    "X = dataset.iloc[:, :-1].values\n",
    "y = dataset.iloc[:, -1].values\n",
    "\n",
    "# Feature Scaling\n",
    "from sklearn.preprocessing import MinMaxScaler\n",
    "sc = MinMaxScaler(feature_range = (0, 1))\n",
    "X = sc.fit_transform(X)\n",
    "\n",
    "# Training the SOM\n",
    "from minisom import MiniSom\n",
    "som = MiniSom(x = 10, y = 10, input_len = 15, sigma = 1.0, learning_rate = 0.5,random_seed=42)\n",
    "som.random_weights_init(X)\n",
    "som.train_random(data = X, num_iteration = 100)\n",
    "\n",
    "# Visualizing the results\n",
    "from pylab import bone, pcolor, colorbar, plot, show\n",
    "bone()\n",
    "pcolor(som.distance_map().T)\n",
    "colorbar()\n",
    "markers = ['o', 's']\n",
    "colors = ['r', 'g']\n",
    "for i, x in enumerate(X):\n",
    "    w = som.winner(x)\n",
    "    plot(w[0] + 0.5,\n",
    "         w[1] + 0.5,\n",
    "         markers[y[i]],\n",
    "         markeredgecolor = colors[y[i]],\n",
    "         markerfacecolor = 'None',\n",
    "         markersize = 10,\n",
    "         markeredgewidth = 2)\n",
    "show()\n",
    "\n",
    "# Finding the frauds\n",
    "mappings = som.win_map(X)\n",
    "frauds = np.concatenate((mappings[(5,7)], mappings[(4,6)]), axis = 0)\n",
    "frauds = sc.inverse_transform(frauds)"
   ]
  },
  {
   "cell_type": "code",
   "execution_count": 15,
   "metadata": {},
   "outputs": [
    {
     "data": {
      "text/plain": [
       "35"
      ]
     },
     "execution_count": 15,
     "metadata": {},
     "output_type": "execute_result"
    }
   ],
   "source": [
    "len(frauds)\n"
   ]
  },
  {
   "cell_type": "markdown",
   "metadata": {},
   "source": [
    "## The mega case study to build a hybrid deep learning model of ANN and SOM"
   ]
  },
  {
   "cell_type": "markdown",
   "metadata": {},
   "source": [
    "1. We reuse the SOM part to find the 35 potential frauds. <br>\n",
    "2. To get the dependent variable we use above 35 potential frauds, first we initialize vector of `zeros` now going through every customer in the data we replace `0` in the 0 vector with `1` if the customer id appears in the fraud list.<br>\n",
    "3. getting the features won't include customer id there, as it doen't give any valuable info towards if the customer is fraud or not. <br>\n",
    "4. using these dependent and independent variables, we get to train our ANN to get the predicted probability for particular customer to be a fraud.<br>\n"
   ]
  },
  {
   "cell_type": "code",
   "execution_count": null,
   "metadata": {},
   "outputs": [],
   "source": []
  },
  {
   "cell_type": "code",
   "execution_count": null,
   "metadata": {},
   "outputs": [],
   "source": []
  },
  {
   "cell_type": "code",
   "execution_count": null,
   "metadata": {},
   "outputs": [],
   "source": []
  },
  {
   "cell_type": "code",
   "execution_count": null,
   "metadata": {},
   "outputs": [],
   "source": []
  },
  {
   "cell_type": "code",
   "execution_count": null,
   "metadata": {},
   "outputs": [],
   "source": []
  },
  {
   "cell_type": "code",
   "execution_count": null,
   "metadata": {},
   "outputs": [],
   "source": []
  },
  {
   "cell_type": "code",
   "execution_count": null,
   "metadata": {},
   "outputs": [],
   "source": []
  },
  {
   "cell_type": "code",
   "execution_count": null,
   "metadata": {},
   "outputs": [],
   "source": []
  },
  {
   "cell_type": "code",
   "execution_count": null,
   "metadata": {},
   "outputs": [],
   "source": []
  }
 ],
 "metadata": {
  "kernelspec": {
   "display_name": "Python 3",
   "language": "python",
   "name": "python3"
  },
  "language_info": {
   "codemirror_mode": {
    "name": "ipython",
    "version": 3
   },
   "file_extension": ".py",
   "mimetype": "text/x-python",
   "name": "python",
   "nbconvert_exporter": "python",
   "pygments_lexer": "ipython3",
   "version": "3.6.6"
  }
 },
 "nbformat": 4,
 "nbformat_minor": 2
}
