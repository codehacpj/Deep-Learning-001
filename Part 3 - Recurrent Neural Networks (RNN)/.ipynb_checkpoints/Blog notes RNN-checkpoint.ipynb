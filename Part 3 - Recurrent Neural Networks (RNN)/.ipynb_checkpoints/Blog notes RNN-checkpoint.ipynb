{
 "cells": [
  {
   "cell_type": "markdown",
   "metadata": {},
   "source": [
    "# Recurrent Neural Networks(RNNs)\n",
    "## Plan of attack:\n",
    "1. The idea behind RNNs\n",
    "2. The vanishing gradient problems\n",
    "3. Long Short-Term Memory(LSTM)\n",
    "4. Practical Intuition\n",
    "5. Extra info on LSTM variations\n",
    "\n",
    "<br>\n",
    "weights ---> long term memory so in `Temporal lobe` --->`ANNs`<br>\n",
    "`CNNs`---> vision related ---> `occipital lobe`<br>\n",
    "`Frontal lobe` --> short term memory ---> `RNNs`<br>\n",
    "There is no neural network yet that can function as `Parietal Lobe` which perception and making corelations with other neurons.\n",
    "![Human Brain and Neural Networks](brain.png)"
   ]
  },
  {
   "attachments": {},
   "cell_type": "markdown",
   "metadata": {},
   "source": []
  },
  {
   "cell_type": "code",
   "execution_count": null,
   "metadata": {},
   "outputs": [],
   "source": []
  }
 ],
 "metadata": {
  "kernelspec": {
   "display_name": "Python 3",
   "language": "python",
   "name": "python3"
  },
  "language_info": {
   "codemirror_mode": {
    "name": "ipython",
    "version": 3
   },
   "file_extension": ".py",
   "mimetype": "text/x-python",
   "name": "python",
   "nbconvert_exporter": "python",
   "pygments_lexer": "ipython3",
   "version": "3.6.6"
  }
 },
 "nbformat": 4,
 "nbformat_minor": 2
}
