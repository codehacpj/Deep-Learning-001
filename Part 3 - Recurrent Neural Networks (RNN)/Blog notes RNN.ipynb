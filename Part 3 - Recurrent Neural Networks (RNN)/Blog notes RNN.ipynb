{
 "cells": [
  {
   "cell_type": "markdown",
   "metadata": {},
   "source": [
    "# Recurrent Neural Networks(RNNs)\n",
    "## Plan of attack:\n",
    "1. The idea behind RNNs\n",
    "2. The vanishing gradient problems\n",
    "3. Long Short-Term Memory(LSTM)\n",
    "4. Practical Intuition\n",
    "5. Extra info on LSTM variations\n",
    "<br>\n",
    "weights ---> long term memory so in `Temporal lobe` --->`ANNs`<br>\n",
    "`CNNs`---> vision related ---> `occipital lobe`<br>\n",
    "`Frontal lobe` --> short term memory ---> `RNNs`<br>\n",
    "There is no neural network yet that can function as `Parietal Lobe` which perception and making corelations with other neurons.\n",
    "<p>\n",
    "\n",
    "    \n",
    "![Human Brain and Neural Networks](brain.png)\n",
    "\n",
    "\\newpage\n",
    "\n",
    "To convert a ANN into RNN we sqash it into one.<br>\n",
    "whole network is still there but the network is flattened out.<br>\n",
    "change the multiple arrows in to just 2 and then make it vertical(for convention).hidden layer is blue and now there is one more arrow form blue to itself.<br>\n",
    "<p>\n",
    "    \n",
    "This new line is representation of `temporal loop`.i.e. the hiddenlayer along with giving output, feeds back the results into itself. This gives the network some kind of artificial short term memory.<br>\n",
    "\n",
    "![Screenshot%20from%202018-08-12%2015-07-21.png](Screenshot%20from%202018-08-12%2015-07-21.png)"
   ]
  },
  {
   "attachments": {},
   "cell_type": "markdown",
   "metadata": {},
   "source": []
  },
  {
   "cell_type": "code",
   "execution_count": null,
   "metadata": {},
   "outputs": [],
   "source": []
  }
 ],
 "metadata": {
  "kernelspec": {
   "display_name": "Python 3",
   "language": "python",
   "name": "python3"
  },
  "language_info": {
   "codemirror_mode": {
    "name": "ipython",
    "version": 3
   },
   "file_extension": ".py",
   "mimetype": "text/x-python",
   "name": "python",
   "nbconvert_exporter": "python",
   "pygments_lexer": "ipython3",
   "version": "3.6.6"
  }
 },
 "nbformat": 4,
 "nbformat_minor": 2
}
