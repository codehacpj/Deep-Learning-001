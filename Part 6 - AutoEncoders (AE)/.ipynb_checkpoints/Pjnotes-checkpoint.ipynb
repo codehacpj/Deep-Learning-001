{
 "cells": [
  {
   "cell_type": "markdown",
   "metadata": {},
   "source": [
    "# AutoEncoders"
   ]
  },
  {
   "attachments": {},
   "cell_type": "markdown",
   "metadata": {},
   "source": [
    "directed neural network<br>\n",
    "It encodes itself.![test image](Screenshot from 2018-08-19 12-00-23.png)<p>\n",
    "\n",
    "i/p   ---> hidden layers ----> o/p similar to the i/ps.![Screenshot%20from%202018-08-23%2018-14-04.png](Screenshot%20from%202018-08-23%2018-14-04.png)\n",
    "\n",
    "![Screenshot%20from%202018-08-23%2018-20-21.png](Screenshot%20from%202018-08-23%2018-20-21.png)\n",
    "\n",
    "![Screenshot%20from%202018-08-23%2018-21-19.png](Screenshot%20from%202018-08-23%2018-21-19.png)\n",
    "![Screenshot%20from%202018-08-23%2018-25-13.png](Screenshot%20from%202018-08-23%2018-25-13.png)\n",
    "`self supervised`<br>\n",
    "can be used for feature detection, to build recommender systems, to encode data<br>\n",
    "<p>\n",
    "    \n",
    "\n",
    "How auto encoders work for the recommender systerm:<br>\n",
    "1. we take the ratings given by the users one by one<br>\n",
    "2. for every user when passed to hidden nodes the hidden nodes take weights for most important features, and then pass to output nodes. <br>\n",
    "3. the outputs are compared to the inputs and the errors are calculated, the errors are back propagated to fix the weights for the next iteration. <br>\n",
    "4. Repeated for all users for certain epochs.\n",
    "\n",
    "![Screenshot%20from%202018-08-23%2018-27-28.png](Screenshot%20from%202018-08-23%2018-27-28.png)![Screenshot%20from%202018-08-23%2018-28-48.png](Screenshot%20from%202018-08-23%2018-28-48.png)![Screenshot%20from%202018-08-23%2018-28-44.png](Screenshot%20from%202018-08-23%2018-28-44.png)![Screenshot%20from%202018-08-23%2018-29-26.png](Screenshot%20from%202018-08-23%2018-29-26.png)\n",
    "\n",
    "    \n",
    "The Autoencoders can cheat if the number of hidden nodes are equal or more than that of the input nodes(`sometimes when we want to extract more features`). This situation can be dealt with using different kinds of autoencoders.<br>\n",
    "<p>\n",
    "    \n",
    "1. Sparse Autoencoders: <br> similar to the picture above with `regularization technique(which prevents overfitting) which introduces sparsity` is applied in addition. i.e. it introduces a constraint on the loss function or a penalty which doesn't allow the autoencoder to use all of its hidden layer at a time.\n",
    "![Screenshot%20from%202018-08-23%2018-42-56.png](Screenshot%20from%202018-08-23%2018-42-56.png)![Screenshot%20from%202018-08-23%2018-48-58.png](Screenshot%20from%202018-08-23%2018-48-58.png)\n",
    "![Screenshot%20from%202018-08-23%2018-49-35.png](Screenshot%20from%202018-08-23%2018-49-35.png)![Screenshot%20from%202018-08-23%2018-49-17.png](Screenshot%20from%202018-08-23%2018-49-17.png)\n",
    "<p>\n",
    "\n",
    "2. Denoising Autoencoders:<br> Modified version of input values by making random number of inputs `0's` mostly the half of your inputs but again the output values are compared to original inputs.\n",
    "![Screenshot%20from%202018-08-23%2018-51-45.png](Screenshot%20from%202018-08-23%2018-51-45.png)![Screenshot%20from%202018-08-23%2018-53-22.png](Screenshot%20from%202018-08-23%2018-53-22.png)\n",
    "\n",
    "<p>\n",
    "    \n",
    "3. Contractive Autoencoders: <br> It leverages the whole autoencoding, while sending back the error, it introduces the penalty.`workings of it is complex`\n",
    "![Screenshot%20from%202018-08-23%2018-55-46.png](Screenshot%20from%202018-08-23%2018-55-46.png)\n",
    "<p>\n",
    "\n",
    "\n",
    "4. Stacked Autoencoders: <br> Adding another layer of hidden layers---> 2 statges of encoding and one stage of decoding.\n",
    "![Screenshot%20from%202018-08-23%2019-03-51.png](Screenshot%20from%202018-08-23%2019-03-51.png)![Screenshot%20from%202018-08-23%2019-04-27.png](Screenshot%20from%202018-08-23%2019-04-27.png)\n",
    "\n",
    "<p>\n",
    "    \n",
    "5. Deep Autoencoders: <br> stacked restricted boltzmann machines<br> pretrained layer by layer and then fine tuned by back propagation.\n",
    "![Screenshot%20from%202018-08-23%2019-07-35.png](Screenshot%20from%202018-08-23%2019-07-35.png)![Screenshot%20from%202018-08-23%2019-05-57.png](Screenshot%20from%202018-08-23%2019-05-57.png)"
   ]
  },
  {
   "cell_type": "code",
   "execution_count": null,
   "metadata": {},
   "outputs": [],
   "source": []
  }
 ],
 "metadata": {
  "kernelspec": {
   "display_name": "Python 3",
   "language": "python",
   "name": "python3"
  },
  "language_info": {
   "codemirror_mode": {
    "name": "ipython",
    "version": 3
   },
   "file_extension": ".py",
   "mimetype": "text/x-python",
   "name": "python",
   "nbconvert_exporter": "python",
   "pygments_lexer": "ipython3",
   "version": "3.6.6"
  }
 },
 "nbformat": 4,
 "nbformat_minor": 2
}
